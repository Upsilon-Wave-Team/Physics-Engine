{
 "cells": [
  {
   "cell_type": "code",
   "execution_count": 1,
   "metadata": {},
   "outputs": [],
   "source": [
    "import numpy as np\n",
    "from matplotlib import pyplot as plt\n",
    "from matplotlib.animation import FuncAnimation\n",
    "from matplotlib.animation import ArtistAnimation\n",
    "\n",
    "%matplotlib inline\n",
    "\n",
    "#Setting constants \n",
    "ep_0 = 8.8541878*(10**(-12))\n",
    "mew_0 = 4*(np.pi)*(10**(-7))\n",
    "c0 = 299792458"
   ]
  },
  {
   "cell_type": "code",
   "execution_count": 2,
   "metadata": {},
   "outputs": [],
   "source": [
    "#Grid Resolution\n",
    "ds = 0.1\n",
    "\n",
    "#Grid Size\n",
    "x_steps = 200\n",
    "x_len = (x_steps-1)*ds\n",
    "x_axis = y_axis =np.linspace(0, x_len, x_steps)\n",
    "\n",
    "y_steps = 200\n",
    "y_len = (y_steps-1)*ds\n",
    "y_axis =np.linspace(0, y_len, y_steps)\n",
    "\n",
    "#Setting environment parameters\n",
    "mew_r = ep_r = n = np.ones((x_steps,y_steps))\n",
    "mew_r[:,y_steps//2:-4] = 2.0   # relative permeability in part of the grid\n",
    "ep_r[:,y_steps//2:-4]  = 2.0   # relative permittivity in part of the grid\n",
    "n = np.sqrt(mew_r*ep_r)  # refractive index of the grid\n",
    "\n",
    "σ = np.zeros((x_steps,y_steps))\n",
    "σ[:,y_steps//2:-4] = 10**(-3)  # electrical conductivity in part of the grid\n",
    "    \n",
    "#Time Step (using courant stability condition)\n",
    "dt = ds/(np.sqrt(2.0)*c0)    #dt is chosen so that the magnitude of c0*dt and dx have the same order of magnitude \n",
    "\n",
    "#Time Period of simulation\n",
    "t_steps = 500\n",
    "timePeriod = (t_steps-1)*dt\n",
    "t_axis = np.linspace(0, timePeriod, t_steps)\n",
    "\n",
    "#Gaussian source (impulse)\n",
    "#Source Parameters\n",
    "tau = 10*dt\n",
    "t0  = 10*tau\n",
    "#Generating Electric Field source over time\n",
    "Es = np.exp(-((t_axis-t0)/tau)**2) \n",
    "\n",
    "#Update Coefficients for fdtd (chosen basedon Maxwell's equations with normalized Electric and Magnetic field values)\n",
    "mH = (-dt*c0/(mew_r*ds))\n",
    "\n",
    "mE1 = (2*ep_0*ep_r - σ*dt)/(2*ep_0*ep_r + σ*dt)\n",
    "mE2 = 2*ep_0*c0*dt/(ds*(2*ep_0*ep_r + dt*σ))"
   ]
  },
  {
   "cell_type": "code",
   "execution_count": 3,
   "metadata": {},
   "outputs": [],
   "source": [
    "\"\"\"\n",
    "Simulation is done in 2D over XY plane. (d/dz is assumed to be 0, i.e; materials extended infinitely along z axis and no change is observed)\n",
    "    Expanding Mexwell's equations given this conditions retuens two independant modes of EM waves\n",
    "    Ez mode of EM wave is simulated\n",
    "\n",
    "Dirichlet Boundary Conditions are applied \n",
    "    Everything outside the simulated grid is set to 0, and so the EM wave is reflected back into the grid\n",
    "\n",
    "Loss is introduced by adding electrical conductivity σ, and update coefficients for electric field E are modified accordingly\n",
    "\"\"\"\n",
    "\n",
    "HxOverTime = HyOverTime = EzOverTime = np.zeros((1, x_steps, y_steps)) \n",
    "\n",
    "for t in range(1,t_steps,1):\n",
    "\n",
    "    Hx = HxOverTime[t-1]\n",
    "    Hy = HyOverTime[t-1]\n",
    "    Ez = EzOverTime[t-1]\n",
    "\n",
    "    Hx[:,:-1] += mH[:,:-1]*(Ez[:,1:]-Ez[:,:-1])  #Change in Ez over y\n",
    "    Hx[:,-1] += mH[:,-1]*(0-Ez[:,-1]) #Boundary Condition\n",
    "\n",
    "    HxOverTime = np.append(HxOverTime, np.array([Hx]), axis=0)\n",
    "    \n",
    "    Hy[:-1,:] -= mH[:-1,:]*(Ez[1:,:]-Ez[:-1,:])  #Change on Ez over x\n",
    "    Hy[-1,:] -= mH[-1,:]*(0-Ez[-1,:])  #Boundary Condition\n",
    "\n",
    "    HyOverTime = np.append(HyOverTime, np.array([Hy]), axis=0)\n",
    "\n",
    "    CHz = np.zeros((x_steps,y_steps))  #z component of curl of H\n",
    "    CHz[1:,:] += (Hy[1:,:]-Hy[:-1,:])  #Change in Hy over x\n",
    "    CHz[0,:] += (Hy[0,:]-0)  #Boundary Condition\n",
    "    CHz[:,1:] -= (Hx[:,1:]-Hx[:,:-1])  #Change in Hx over y\n",
    "    CHz[:,0] -= (Hx[:,0]-0)  #Boundary Condition\n",
    "    CHz[0,0] += Hy[0,0] - Hx[0,0]  #Boundary Condition\n",
    "    Ez = mE1[:,:]*Ez + mE2[:,:]*CHz[:,:]\n",
    "    \n",
    "    Ez[99,60] += Es[t]  #injecting source at a point in the grid\n",
    "    \n",
    "    EzOverTime = np.append(EzOverTime, np.array([Ez]), axis=0)"
   ]
  },
  {
   "cell_type": "code",
   "execution_count": 4,
   "metadata": {},
   "outputs": [
    {
     "data": {
      "image/png": "[encoded data removed]",
      "text/plain": [
       "<Figure size 504x432 with 2 Axes>"
      ]
     },
     "metadata": {
      "needs_background": "light"
     },
     "output_type": "display_data"
    }
   ],
   "source": [
    "#Animation (Ez Over XY plane - Contour)\n",
    "\n",
    "fig = plt.figure(figsize=(7,6))\n",
    "ims = []\n",
    "\n",
    "for t in range(0, int(t_steps), 5):\n",
    "    im = plt.contourf(x_axis, y_axis, EzOverTime[t].T, cmap= 'jet', vmax=0.015,vmin=-0.015)\n",
    "    ims.append(im.collections)\n",
    "\n",
    "cbar = plt.colorbar(im)\n",
    "\n",
    "ani = ArtistAnimation(fig, ims, interval=150, repeat=True)\n",
    "\n",
    "ani.save(\"EzOverXY.gif\", writer='imagemagick') "
   ]
  },
  {
   "cell_type": "code",
   "execution_count": 6,
   "metadata": {},
   "outputs": [
    {
     "data": {
      "image/png": "[encoded data removed]",
      "text/plain": [
       "<Figure size 432x288 with 1 Axes>"
      ]
     },
     "metadata": {
      "needs_background": "light"
     },
     "output_type": "display_data"
    }
   ],
   "source": [
    "#Animation (Ez Over Y axis)\n",
    "\n",
    "fig = plt.figure(figsize=(6,4))\n",
    "ax = plt.axes(xlim=(0, x_len), ylim = (-0.05,0.05))\n",
    "\n",
    "#The region with different refractive index is colored silver\n",
    "for i in range(0, y_steps, 1):\n",
    "    if n[100,i] == 1.0:\n",
    "        plt.axvspan(i*ds, (i+1)*ds, facecolor='w')\n",
    "    else:\n",
    "        plt.axvspan(i*ds, (i+1)*ds, facecolor='silver')\n",
    "\n",
    "ax.set_xlabel('y axis')\n",
    "ax.set_ylabel('Electric Field')\n",
    "\n",
    "line, = ax.plot([], [], lw=2)\n",
    "\n",
    "def init():\n",
    "    line.set_data([], [])\n",
    "    return line,\n",
    "\n",
    "#The E field over z acis is plotted every 5th time step\n",
    "def animate(t):\n",
    "    x = y_axis\n",
    "    y = EzOverTime[5*t,100]\n",
    "    plt.title(\"Step \" + str(5*t+1) + \" of \" + str(t_steps)+ \" : time = \" + str(5*t*dt))\n",
    "    line.set_data(x, y)\n",
    "    return line,\n",
    "\n",
    "anim = FuncAnimation(fig, animate, init_func=init,\n",
    "                               frames=int(t_steps/5), interval=1, blit=True)\n",
    "\n",
    "anim.save(\"EzOverY.gif\", writer='imagemagick')"
   ]
  },
  {
   "cell_type": "markdown",
   "metadata": {},
   "source": [
    "Based on Reference material on FDTD analysis from https://empossible.net/academics/emp5304/"
   ]
  },
  {
   "cell_type": "code",
   "execution_count": null,
   "metadata": {},
   "outputs": [],
   "source": []
  }
 ],
 "metadata": {
  "kernelspec": {
   "display_name": "Python 3",
   "language": "python",
   "name": "python3"
  },
  "language_info": {
   "codemirror_mode": {
    "name": "ipython",
    "version": 3
   },
   "file_extension": ".py",
   "mimetype": "text/x-python",
   "name": "python",
   "nbconvert_exporter": "python",
   "pygments_lexer": "ipython3",
   "version": "3.7.4"
  }
 },
 "nbformat": 4,
 "nbformat_minor": 4
}
