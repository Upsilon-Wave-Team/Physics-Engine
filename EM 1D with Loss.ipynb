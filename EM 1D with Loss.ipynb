{
 "cells": [
  {
   "cell_type": "code",
   "execution_count": 1,
   "metadata": {},
   "outputs": [],
   "source": [
    "import numpy as np\n",
    "from matplotlib import pyplot as plt\n",
    "from matplotlib.animation import FuncAnimation\n",
    "\n",
    "%matplotlib inline\n",
    "\n",
    "#Setting constants \n",
    "ep_0 = 8.8541878*(10**(-12))\n",
    "mew_0 = 4*(np.pi)*(10**(-7))\n",
    "c0 = 299792458"
   ]
  },
  {
   "cell_type": "code",
   "execution_count": 2,
   "metadata": {},
   "outputs": [],
   "source": [
    "def FDTD(z_axis, t_axis, Hs, Es, mew_r, ep_r, σ): \n",
    "    \"\"\"\n",
    "    Args:\n",
    "        z_axis: Numpy array of linearly spaced points on z axis\n",
    "        t_axis: Numpy array of linearly spaced time values\n",
    "        Hs:     Numpy array over time axis of Magnetic Field due to source \n",
    "        Es:     Numpy array over time axis of Electric Field due to source \n",
    "        mew_r:  Numpy array over z_axis of relative permeability at that point\n",
    "        ep_r:   Numpy array over z_axis of relative permittivity at that point\n",
    "        σ:      Numpy array over z_axis of electrical conductance at that point\n",
    "    \n",
    "    Returns:\n",
    "        EOverTime: Numpy array of E field values over z-axis over time \n",
    "        HOverTime: Numpy array of E field values over z-axis over time \n",
    "        \n",
    "        such that EOverTime[t][z] gives Electric field value at time t and position z (t and z are indexs for t_axis and z_axis respectively)\n",
    "    \n",
    "    Perfectly Absorbing Boundary conditions are applied \n",
    "    Loss is introduced becuase of the presence of electrical conductance, σ (can be set to zero for simulation wothout loss)  \n",
    "    \"\"\"\n",
    "    z_steps = z_axis.size\n",
    "    t_steps = t_axis.size\n",
    "    \n",
    "    #Update Coefficients for fdtd \n",
    "    mHx = mEy1 = mEy2 = np.ones(z_steps)\n",
    "\n",
    "    mHx = dt*c0/(mew_r*dz)\n",
    "\n",
    "    mEy1 = (2*ep_0*ep_r - σ*dt)/(2*ep_0*ep_r + σ*dt)\n",
    "    mEy2 = 2*ep_0*c0*dt/(dz*(2*ep_0*ep_r + dt*σ))\n",
    "    \n",
    "    HxOverTime = EyOverTime = np.zeros((1, z_steps))\n",
    "    \n",
    "    #Electric and Magentic field values are stored up to 2 spaces (e1,e2,h1,h2) beyond the axis to apply perfectly absorbing boundaries\n",
    "    h2 = h1 = e2 = e1 = 0\n",
    "    \n",
    "    for t in range(1,t_steps,1):\n",
    "        \n",
    "        HxOverTime[t-1][2] -= mHx[2]*Es[t-1]\n",
    "        EyOverTime[t-1][3] = mEy1[3]*EyOverTime[t-1][3] - mEy2[3]*Hs[t-1]\n",
    "        \n",
    "        Hx = HxOverTime[t-1]\n",
    "        Ey = EyOverTime[t-1]\n",
    "        \n",
    "        h2 = h1\n",
    "        h1 = Hx[0]\n",
    "        \n",
    "        Hx[:z_steps-1] += mHx[:z_steps-1]*(Ey[1:]-Ey[:z_steps-1])\n",
    "        Hx[z_steps-1] += mHx[z_steps-1]*(e2-Ey[z_steps-1])\n",
    "        \n",
    "        HxOverTime = np.append(HxOverTime, np.array([Hx]), axis=0)\n",
    "        \n",
    "        e2 = e1\n",
    "        e1 = Ey[z_steps-1]\n",
    "        \n",
    "        Ey[0] = mEy1[0]*Ey[0] + mEy2[0]*(Hx[0]- h2)\n",
    "        Ey[1:] = mEy1[1:]*Ey[1:] + mEy2[1:]*(Hx[1:]-Hx[:z_steps-1])   \n",
    "        \n",
    "        EyOverTime = np.append(EyOverTime, np.array([Ey]), axis=0)\n",
    "    \n",
    "    return HxOverTime, EyOverTime"
   ]
  },
  {
   "cell_type": "code",
   "execution_count": 3,
   "metadata": {},
   "outputs": [],
   "source": [
    "#Grid Resolution\n",
    "dz = 0.001\n",
    "\n",
    "#Grid Size\n",
    "z_steps = 100\n",
    "z_len = (z_steps-1)*dz\n",
    "z_axis = np.linspace(0,z_len, z_steps)\n",
    "\n",
    "#Setting environment parameters\n",
    "mew_r = ep_r = n = np.ones(z_steps)\n",
    "mew_r[int(z_steps/2):-4] = 2.0\n",
    "ep_r[int(z_steps/2):-4]  = 2.0\n",
    "n = np.sqrt(mew_r*ep_r)\n",
    "\n",
    "σ = np.zeros(z_steps)\n",
    "σ[int(z_steps/2):-4] = 10**(-1)\n",
    "    \n",
    "#Time Step\n",
    "dt = dz/(2*c0)    #dt is chosen to be dz/2*c0 so that the magnitude of c0*dt and dx have the same order of magnitude and the wave travels 1 grid point in 2 time steps for the implementation of perfectly absorbing coundary conditions\n",
    "\n",
    "#Time Period\n",
    "t_steps = 700\n",
    "timePeriod = (t_steps-1)*dt\n",
    "t_axis = np.linspace(0, timePeriod, t_steps)"
   ]
  },
  {
   "cell_type": "code",
   "execution_count": 4,
   "metadata": {},
   "outputs": [],
   "source": [
    "#Gaussian source (impulse)\n",
    "def Esrc(t, t0, tau):\n",
    "    return np.exp(-((t-t0)/tau)**2) \n",
    "\n",
    "def Hsrc(t, t0, tau, A):\n",
    "    return A*np.exp(-((t-t0+3*dt/2)/tau)**2 )\n",
    "\n",
    "#Source Parameters\n",
    "tau = 20*dt\n",
    "t0  = 6*tau\n",
    "\n",
    "A = -np.sqrt(2.0/2.0) #Normalizing Magnetic Field so it has the same order of magnitude as electric field\n",
    "\n",
    "#Generating Electric and Magnetic Field due to source over time\n",
    "Es = Esrc(t_axis, t0, tau)\n",
    "Hs = Hsrc(t_axis, t0, tau, A)"
   ]
  },
  {
   "cell_type": "code",
   "execution_count": 5,
   "metadata": {},
   "outputs": [],
   "source": [
    "#Running simulation\n",
    "HOverTime, EOverTime = FDTD(z_axis, t_axis, Hs, Es, mew_r, ep_r, σ)"
   ]
  },
  {
   "cell_type": "code",
   "execution_count": 7,
   "metadata": {},
   "outputs": [
    {
     "data": {
      "image/png": "[encoded data removed]",
      "text/plain": [
       "<Figure size 648x432 with 1 Axes>"
      ]
     },
     "metadata": {
      "needs_background": "light"
     },
     "output_type": "display_data"
    }
   ],
   "source": [
    "#Animation\n",
    "fig = plt.figure(figsize=(9,6))\n",
    "ax = plt.axes(xlim=(0, z_len), ylim = (-1.5,1.5))\n",
    "\n",
    "#The region with different refractive index is colored silver\n",
    "for i in range(0, z_steps, 1):\n",
    "    if n[i] == 1.0:\n",
    "        plt.axvspan(i*dz, (i+1)*dz, facecolor='w')\n",
    "    else:\n",
    "        plt.axvspan(i*dz, (i+1)*dz, facecolor='silver')\n",
    "\n",
    "ax.set_xlabel('z axis')\n",
    "ax.set_ylabel('Electric Field')\n",
    "\n",
    "line, = ax.plot([], [], lw=2)\n",
    "\n",
    "def init():\n",
    "    line.set_data([], [])\n",
    "    return line,\n",
    "\n",
    "#The E field over z acis is plotted every 10th time step\n",
    "def animate(t):\n",
    "    x = z_axis\n",
    "    y = EOverTime[10*t]\n",
    "    plt.title(\"Step \" + str(10*t+1) + \" of \" + str(t_steps)+ \" : time = \" + str(10*t*dt))\n",
    "    line.set_data(x, y)\n",
    "    return line,\n",
    "\n",
    "anim = FuncAnimation(fig, animate, init_func=init,\n",
    "                               frames=int(t_steps/10), interval=1, blit=True)\n",
    "\n",
    "anim.save(\"EOverZ.gif\", writer='imagemagick')  "
   ]
  },
  {
   "cell_type": "code",
   "execution_count": null,
   "metadata": {},
   "outputs": [],
   "source": []
  }
 ],
 "metadata": {
  "kernelspec": {
   "display_name": "Python 3",
   "language": "python",
   "name": "python3"
  },
  "language_info": {
   "codemirror_mode": {
    "name": "ipython",
    "version": 3
   },
   "file_extension": ".py",
   "mimetype": "text/x-python",
   "name": "python",
   "nbconvert_exporter": "python",
   "pygments_lexer": "ipython3",
   "version": "3.7.4"
  }
 },
 "nbformat": 4,
 "nbformat_minor": 4
}
